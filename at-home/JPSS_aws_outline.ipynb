{
 "cells": [
  {
   "cell_type": "markdown",
   "id": "f576c4d4-f1e4-443c-b8e0-695b3a25ba8a",
   "metadata": {
    "tags": []
   },
   "source": [
    "# Visualizing AWS JPSS data (for research)\n",
    "#### **Audience:** Anybody with a computer and access to at least 4GB of memory.\n",
    "#### **Intent:** Provide a foundation for using JPSS data in scientific research.\n",
    "\n",
    "This notebook is an introduction to accessing JPSS (SNPP, NOAA-20, and NOAA-21) satellite data from the AWS Cloud. It contains definitions to facilitate plotting, and provide a baseline for the analysis of, select JPSS data products. Coding experience is required to use this notebook, and it is meant to be altered to fit a researcher's data interests. "
   ]
  },
  {
   "cell_type": "markdown",
   "id": "c0896fdc-ece5-4ea9-9a8e-459e5ec7b5e0",
   "metadata": {},
   "source": [
    "# Importing"
   ]
  },
  {
   "cell_type": "code",
   "execution_count": 1,
   "id": "64f1a609-caf9-4652-bdc4-7f91edcb85b1",
   "metadata": {
    "tags": []
   },
   "outputs": [],
   "source": [
    "import ipywidgets as widgets\n",
    "import requests\n",
    "import netCDF4\n",
    "import s3fs\n",
    "import numpy as np\n",
    "import matplotlib.pyplot as plt\n",
    "from matplotlib import animation\n",
    "import cartopy.crs as ccrs\n",
    "from cartopy import feature as cf\n",
    "import xarray\n",
    "from datetime import datetime"
   ]
  },
  {
   "cell_type": "markdown",
   "id": "06daf37c-d5fe-419d-a43e-3e225e706cd7",
   "metadata": {},
   "source": [
    "# Defining\n",
    "#### Pre-written definitions to facilitate the visualization of select satellite data products. "
   ]
  },
  {
   "cell_type": "code",
   "execution_count": 2,
   "id": "1e7273a7-ac30-4afa-ad0d-c86bc6273a8c",
   "metadata": {
    "tags": []
   },
   "outputs": [],
   "source": [
    "def aws_plot(satellite, product):\n",
    "    \n",
    "    fig = plt.figure(figsize=(12, 7))\n",
    "    ax = plt.axes(projection=ccrs.PlateCarree()) \n",
    "    ax.add_feature(cf.OCEAN)\n",
    "    ax.add_feature(ccrs.cartopy.feature.STATES, linewidth=0.25)\n",
    "    ax.coastlines(resolution='50m', color='black', linewidth=0.25)\n",
    "    \n",
    "    gl = ax.gridlines(crs=ccrs.PlateCarree(), draw_labels=True,linewidth=1, color='black', alpha=0.05, linestyle='-')\n",
    "    gl.top_labels = False\n",
    "    gl.left_labels = True\n",
    "    gl.right_labels = False\n",
    "    gl.xlines = True\n",
    "    gl.ylines = True\n",
    "    \n",
    "    # Active Fires!\n",
    "    if product == \"VIIRS-AF-Iband-EDR\":\n",
    "        for f in range(0, len(fnames)):\n",
    "            fname = (fnames[f])[len(satellite) + 1:]\n",
    "            s3url = (f's3://{satellite}/{fname}')\n",
    "            s3f = fsspec.open(s3url, mode='rb', anon=True, default_fill_cache=False)    \n",
    "            h5f = h5py.File(s3f.open(), mode='r')\n",
    "            dset = h5f[\"Fire Pixels\"]\n",
    "            title = \"Fire Radiative Power\"\n",
    "            x = dset[\"FP_longitude\"]\n",
    "            y = dset[\"FP_latitude\"]\n",
    "            product_var = dset[\"FP_power\"]\n",
    "            h5f.close()\n",
    "            \n",
    "            scatter = ax.scatter(x, y, s=4, c = product_var, vmin = 0, vmax = 150)\n",
    "        \n",
    "        plt.colorbar(scatter, shrink=0.5, label = \"Megawatts\")\n",
    "        plt.title(f\"{satellite} {title}\", loc='left', fontweight='bold')\n",
    "        plt.title('{}'.format(scan_start.strftime('%d %B %Y at %H UTC')), loc='right')\n",
    "        plt.show()\n",
    "        plt.close(\"all\")\n",
    "        plt.close(fig)\n",
    "    \n",
    "    # Aerosol Optical Depth!\n",
    "    elif product == \"VIIRS-JRR-AOD\":\n",
    "\n",
    "        for f in range(0, len(fnames)):\n",
    "            fname = (fnames[f])[len(satellite) + 1:]\n",
    "            resp = requests.get(f'https://{satellite_choice.value}.s3.amazonaws.com/{fname}')\n",
    "            nc = netCDF4.Dataset(fname, memory = resp.content)\n",
    "            dataset = xarray.open_dataset(xarray.backends.NetCDF4DataStore(nc))\n",
    "            dataset.load()\n",
    "\n",
    "            dat = dataset.metpy.parse_cf('AOD550')\n",
    "            plotting_var = dataset['AOD550'].data\n",
    "            lon = dat.Longitude\n",
    "            lat = dat.Latitude\n",
    "            dataset.close()\n",
    "            \n",
    "            aerosols = ax.contourf(lon, lat, plotting_var, vmin=-0.05, vmax=5, transform=ccrs.PlateCarree())\n",
    "        \n",
    "        title = \"Aerosol Optical Depth at 550nm\"\n",
    "        plt.colorbar(aerosols, shrink=0.5)\n",
    "        scan_start = datetime.strptime(dataset.time_coverage_start, '%Y-%m-%dT%H:%M:%SZ')\n",
    "\n",
    "        plt.title(f\"{satellite} {title}\", loc='left', fontweight='bold')\n",
    "        plt.title('{}'.format(scan_start.strftime('%d %B %Y at %H UTC')), loc='right')\n",
    "        plt.show()\n",
    "        plt.close(\"all\")\n",
    "        plt.close(fig)\n",
    "        \n",
    "    # Aerosol Detection!\n",
    "    elif product == \"VIIRS-JRR-ADP\":\n",
    "\n",
    "        for f in range(0, len(fnames)):\n",
    "            fname = (fnames[f])[len(satellite) + 1:]\n",
    "            resp = requests.get(f'https://{satellite}.s3.amazonaws.com/{fname}')\n",
    "            nc = netCDF4.Dataset(fname, memory = resp.content)\n",
    "            dataset = xarray.open_dataset(xarray.backends.NetCDF4DataStore(nc))\n",
    "            dataset.load()\n",
    "\n",
    "            dat = dataset.metpy.parse_cf('Ash')\n",
    "            \n",
    "            ash = dataset['Ash'].data\n",
    "            ash[ash != 1] = np.nan\n",
    "            \n",
    "            dust = dataset['Dust'].data\n",
    "            dust[dust != 1] = np.nan\n",
    "            \n",
    "            cloud = dataset['Cloud'].data\n",
    "            cloud[cloud != 1] = np.nan\n",
    "            \n",
    "            smoke = dataset['Smoke'].data\n",
    "            smoke[smoke != 1] = np.nan\n",
    "            \n",
    "            lon = dat.Longitude\n",
    "            lat = dat.Latitude\n",
    "\n",
    "            dataset.close()\n",
    "            \n",
    "            ash_plot = plt.contourf(lon, lat, ash, transform=ccrs.PlateCarree(), cmap = \"Greens_r\")\n",
    "            dust_plot = plt.contourf(lon, lat, dust, transform=ccrs.PlateCarree(), cmap = \"Blues_r\")\n",
    "            cloud_plot = plt.contourf(lon, lat, cloud, transform=ccrs.PlateCarree(), cmap = \"Greys\")\n",
    "            smoke_plot = plt.contourf(lon, lat, smoke, transform=ccrs.PlateCarree(), cmap = \"Reds_r\")\n",
    "            \n",
    "        title = \"Aerosol Detection Product\"\n",
    "        scan_start = datetime.strptime(dataset.time_coverage_start, '%Y-%m-%dT%H:%M:%SZ')\n",
    "\n",
    "        h1,_ = ash_plot.legend_elements()\n",
    "        h2,_ = dust_plot.legend_elements()\n",
    "        h3,_ = cloud_plot.legend_elements()\n",
    "        h4,_ = smoke_plot.legend_elements()\n",
    "        ax.legend([h1[0], h2[0], h3[0], h4[0]], ['Ash', 'Dust', 'Cloud', 'Smoke'], loc = 'lower right')\n",
    "\n",
    "        plt.title(f\"{satellite} {title}\", loc='left', fontweight='bold')\n",
    "        plt.title('{}'.format(scan_start.strftime('%d %B %Y at %H UTC')), loc='right')\n",
    "        plt.show()\n",
    "        plt.close('all')\n",
    "        plt.close(fig)\n",
    "    \n",
    "    # Cloud Top Temperature! \n",
    "    elif product == \"VIIRS-JRR-CloudHeight\": \n",
    "        for f in range(0, len(fnames)):\n",
    "            fname = (fnames[f])[len(satellite) + 1:]\n",
    "            resp = requests.get(f'https://{satellite}.s3.amazonaws.com/{fname}')\n",
    "            nc = netCDF4.Dataset(fname, memory = resp.content)\n",
    "            dataset = xarray.open_dataset(xarray.backends.NetCDF4DataStore(nc))\n",
    "            dataset.load()\n",
    "            \n",
    "            dat = dataset.metpy.parse_cf('CldTopTemp')\n",
    "            plotting_var = dataset['CldTopTemp'].data - 273.15\n",
    "            lon = dat.Longitude\n",
    "            lat = dat.Latitude\n",
    "            nc.close()\n",
    "            \n",
    "            temps = ax.contourf(lon, lat, plotting_var, vmin = -80, vmax = 40, transform=ccrs.PlateCarree())\n",
    "\n",
    "        title = \"Cloud Top Temperature\"\n",
    "        plt.colorbar(temps, shrink=0.5)\n",
    "        scan_start = datetime.strptime(dataset.time_coverage_start, '%Y-%m-%dT%H:%M:%SZ')\n",
    "\n",
    "        plt.title(f\"{satellite} {title}\", loc='left', fontweight='bold')\n",
    "        plt.title('{}'.format(scan_start.strftime('%d %B %Y at %H UTC')), loc='right')\n",
    "        plt.show()\n",
    "        plt.close(\"all\")\n",
    "        plt.close(fig)"
   ]
  },
  {
   "cell_type": "markdown",
   "id": "36d799f8-985d-4d93-91cf-a542366525ce",
   "metadata": {},
   "source": [
    "# Satellite parameters!\n",
    "#### The option to customize your data search."
   ]
  },
  {
   "cell_type": "code",
   "execution_count": 3,
   "id": "88f35d62-6403-480c-917a-2be219995ac4",
   "metadata": {
    "tags": []
   },
   "outputs": [
    {
     "name": "stdout",
     "output_type": "stream",
     "text": [
      "This search resulted in 4 data files.\n"
     ]
    }
   ],
   "source": [
    "# Choose a satellite\n",
    "satellite = \"noaa-nesdis-n21-pds\" # options are 'noaa-goes16', 'noaa-goes17', or 'noaa-goes18'\n",
    "\n",
    "# Choose a product\n",
    "product = \"VIIRS-JRR-CloudHeight\" \n",
    "\n",
    "# Choose a date\n",
    "year = \"2023\" # must be 4 characters (i.e. \"2022\")\n",
    "month = \"11\" # must be 2 characters (i.e. \"01\")\n",
    "day = \"29\" # must be 2 characters (i.e. \"09\")\n",
    "\n",
    "# Choose a time\n",
    "shour = \"23\" # must be 2 characters (i.e. \"01\")\n",
    "smin = \"48\" # must be 2 characters (i.e. \"01\")\n",
    "\n",
    "ehour = \"23\" # must be 2 characters (i.e. \"01\")\n",
    "emin = \"53\" # must be 2 characters (i.e. \"01\")\n",
    "\n",
    "# Search data files\n",
    "aws = s3fs.S3FileSystem(anon=True)\n",
    "data_files = aws.ls(f'{satellite}/{product}/{year}/{month}/{day}/', refresh=True) \n",
    "\n",
    "# Extracting files for chosen date/time\n",
    "fnames = []\n",
    "for file in data_files:\n",
    "    file_start = file.split('_')[-3][9:13]\n",
    "    file_end = file.split('_')[-2][9:13]        \n",
    "    if ((int(file_start[0:4]) >= int((str(shour) + str(smin)))) and (int(file_end[0:4]) <= int((str(ehour) + str(emin)))) and (str(file.split('_')[-2][7:9]) == day)):\n",
    "        fnames.append(file)\n",
    "            \n",
    "print(f\"This search resulted in {len(fnames)} data files.\")"
   ]
  },
  {
   "cell_type": "markdown",
   "id": "9979908d-85bd-416b-8a52-6bc81944df93",
   "metadata": {},
   "source": [
    "# Visualize the data!"
   ]
  },
  {
   "cell_type": "code",
   "execution_count": null,
   "id": "06a394ad-481d-4228-8eaf-aa8f652e4115",
   "metadata": {
    "tags": []
   },
   "outputs": [
    {
     "name": "stdout",
     "output_type": "stream",
     "text": [
      "Plotting the first of 4 files.\n"
     ]
    }
   ],
   "source": [
    "# Plot single frame(s) of your data\n",
    "\n",
    "for f in range(0, 1): \n",
    "#for f in range(0, len(fnames)):  # Uncomment and unindent to plot all images\n",
    "    print(f\"Plotting the first of {len(fnames)} files.\")\n",
    "\n",
    "    fname = (fnames[f])[len(satellite) + 1:]\n",
    "\n",
    "    # Load dataset\n",
    "    resp = requests.get(f'https://{satellite}.s3.amazonaws.com/{fname}')\n",
    "    nc = netCDF4.Dataset(fname, memory = resp.content)\n",
    "\n",
    "    dataset = xarray.open_dataset(xarray.backends.NetCDF4DataStore(nc))\n",
    "    dataset.load()\n",
    "    \n",
    "    aws_plot(satellite, product)"
   ]
  },
  {
   "cell_type": "code",
   "execution_count": null,
   "id": "a9a588ba-26ad-4e0c-9154-4eb7dff7e6ad",
   "metadata": {
    "tags": []
   },
   "outputs": [],
   "source": [
    "# Your analysis here!"
   ]
  },
  {
   "cell_type": "markdown",
   "id": "73e3c643-29ec-4d83-99b8-bdf4bc6542c9",
   "metadata": {},
   "source": [
    "**JPSS Product Documentation:**\n",
    "- https://www.star.nesdis.noaa.gov/jpss/JPSS_products.php (Product description)\n",
    "- https://www.ospo.noaa.gov/Products/Suites/jpss-rr/count_JRR_product.html?product=aerosol (JRR product visualization)\n",
    "- https://www.nesdis.noaa.gov/our-satellites/currently-flying/joint-polar-satellite-system/jpss-satellite-and-instruments (About the satellites)\n",
    "- https://rammb2.cira.colostate.edu/training/visit/jpss-imagery-for-users/ (Data visualization)\n",
    "- https://weather.ndc.nasa.gov/sport/jpsspg/viirs.html (Real-time product visualization)"
   ]
  },
  {
   "cell_type": "markdown",
   "id": "d2a14d9c-5545-433f-9452-d8e4172a5d8e",
   "metadata": {
    "tags": []
   },
   "source": [
    "**Coding Sources:**\n",
    "- https://github.com/jpss-nodd/python-scripts/tree/main\n",
    "- https://medium.com/the-barometer/plotting-noaa-dnb-nighttime-data-using-python-h5py-cartopy-daefef240b0f\n",
    "- https://github.com/modern-tools-workshop/AMS-python-workshop-2023\n",
    "- https://www.meted.ucar.edu/education_training/course/54\n",
    "- https://www.star.nesdis.noaa.gov/atmospheric-composition-training/python_abi_level2_download.php"
   ]
  },
  {
   "cell_type": "markdown",
   "id": "ced8f3e0-05c1-4901-ad18-dba767198482",
   "metadata": {},
   "source": [
    "**CSP Access:**    \n",
    "AWS: https://registry.opendata.aws/noaa-jpss/    \n",
    "Google: coming soon...    \n",
    "Azure: coming soon..."
   ]
  }
 ],
 "metadata": {
  "kernelspec": {
   "display_name": "Python 3 (ipykernel)",
   "language": "python",
   "name": "python3"
  },
  "language_info": {
   "codemirror_mode": {
    "name": "ipython",
    "version": 3
   },
   "file_extension": ".py",
   "mimetype": "text/x-python",
   "name": "python",
   "nbconvert_exporter": "python",
   "pygments_lexer": "ipython3",
   "version": "3.11.4"
  }
 },
 "nbformat": 4,
 "nbformat_minor": 5
}
