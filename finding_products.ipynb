{
 "cells": [
  {
   "cell_type": "markdown",
   "id": "f576c4d4-f1e4-443c-b8e0-695b3a25ba8a",
   "metadata": {
    "tags": []
   },
   "source": [
    "# Finding cloud products!\n",
    "Want data from the cloud, but don't know what's available or how to access it? Look no further."
   ]
  },
  {
   "cell_type": "markdown",
   "id": "c0896fdc-ece5-4ea9-9a8e-459e5ec7b5e0",
   "metadata": {
    "tags": []
   },
   "source": [
    "# AWS"
   ]
  },
  {
   "cell_type": "markdown",
   "id": "89794c5d-076a-4ddb-994c-417b5444fe69",
   "metadata": {
    "tags": []
   },
   "source": [
    "#### GOES (16, 17, 18) buckets: https://registry.opendata.aws/noaa-goes/"
   ]
  },
  {
   "cell_type": "code",
   "execution_count": null,
   "id": "64f1a609-caf9-4652-bdc4-7f91edcb85b1",
   "metadata": {
    "tags": []
   },
   "outputs": [],
   "source": [
    "import requests\n",
    "import s3fs\n",
    "import netCDF4\n",
    "\n",
    "# Select your desired variables by looking at the product documentation (see URL above!)\n",
    "satellite = \"noaa-goes16\"\n",
    "product = \"ABI-L2-LSTM\"\n",
    "year = \"2023\"\n",
    "day_of_year = \"004\"\n",
    "hour = \"17\"\n",
    "\n",
    "name_string = f'{satellite}/{product}/{year}/{day_of_year}/{hour}'\n",
    "\n",
    "# AWS's cloud code\n",
    "aws = s3fs.S3FileSystem(anon=True)\n",
    "data_files = aws.ls(name_string, refresh=True)\n",
    "\n",
    "# See which files your search produced.\n",
    "fnames = []\n",
    "\n",
    "for f in data_files:\n",
    "    fname = f[len(satellite)+1:]\n",
    "    fnames.append(fname)\n",
    "    print(fname)\n",
    "    \n",
    "# Crack open the data. You can now use this netCDF file as you would any downloaded netCDF file.\n",
    "for file in fnames:\n",
    "    resp = requests.get(f'https://{satellite}.s3.amazonaws.com/{file}')\n",
    "    nc = netCDF4.Dataset(file, memory = resp.content)"
   ]
  },
  {
   "cell_type": "markdown",
   "id": "06daf37c-d5fe-419d-a43e-3e225e706cd7",
   "metadata": {
    "tags": []
   },
   "source": [
    "# Azure"
   ]
  },
  {
   "cell_type": "markdown",
   "id": "cfffbd4f-b1a1-404f-8c1d-7cd754b6cd69",
   "metadata": {
    "tags": []
   },
   "source": [
    "#### GOES (16, 17, 18): https://microsoft.github.io/AIforEarthDataSets/data/goes-r.html"
   ]
  },
  {
   "cell_type": "code",
   "execution_count": null,
   "id": "eff1b6d3-4013-4164-9228-95fce06f74a9",
   "metadata": {
    "tags": []
   },
   "outputs": [],
   "source": [
    "import requests\n",
    "from azure.storage.blob import ContainerClient\n",
    "import netCDF4\n",
    "\n",
    "# Select your desired variables by looking at the product documentation (see URL above!)\n",
    "satellite = \"noaa-goes16\"\n",
    "product = \"ABI-L2-LSTM\"\n",
    "year = \"2023\"\n",
    "day_of_year = \"004\"\n",
    "hour = \"17\"\n",
    "\n",
    "name_string = f'{product}/{year}/{day_of_year}/{hour}/'\n",
    "\n",
    "# Azure's cloud code\n",
    "goes_container_client = ContainerClient(account_url='https://goeseuwest.blob.core.windows.net', \n",
    "                                                     container_name=satellite, credential=None)\n",
    "\n",
    "# See which files your search produced.\n",
    "fnames = []\n",
    "for f in goes_container_client.walk_blobs(name_starts_with=name_string, delimiter='/'):\n",
    "    fnames.append(f.name)\n",
    "    print(f.name)\n",
    "           \n",
    "# Crack open the data. You can now use this netCDF file as you would any downloaded netCDF file.\n",
    "for file in fnames:\n",
    "    resp = requests.get(f'https://goeseuwest.blob.core.windows.net/{satellite}/{file}')\n",
    "    nc = netCDF4.Dataset(file, memory = resp.content)"
   ]
  },
  {
   "cell_type": "markdown",
   "id": "36d799f8-985d-4d93-91cf-a542366525ce",
   "metadata": {
    "tags": []
   },
   "source": [
    "# Google"
   ]
  },
  {
   "cell_type": "markdown",
   "id": "7bd57d98-25ca-4b3e-bef5-702e5c513384",
   "metadata": {
    "tags": []
   },
   "source": [
    "#### GOES (16, 17, 18): https://console.cloud.google.com/marketplace/product/noaa-public/goes"
   ]
  },
  {
   "cell_type": "code",
   "execution_count": null,
   "id": "b00d0f79-d6bb-430f-8825-e8743b22ce33",
   "metadata": {},
   "outputs": [],
   "source": [
    "import requests\n",
    "from google.cloud import storage\n",
    "import netCDF4\n",
    "\n",
    "# Select your desired variables by looking at the product documentation (see URL above!)\n",
    "satellite = \"gcp-public-data-goes-16\"\n",
    "product = \"ABI-L2-LSTM\"\n",
    "year = \"2023\"\n",
    "day_of_year = \"004\"\n",
    "hour = \"17\"\n",
    "\n",
    "name_string = f'{product}/{year}/{day_of_year}/{hour}/'\n",
    "\n",
    "# Google's cloud code\n",
    "client = storage.Client.create_anonymous_client()\n",
    "bucket = client.bucket(bucket_name = satellite)\n",
    "\n",
    "blobs = bucket.list_blobs(prefix = name_string, delimiter = \"/\")\n",
    "response = blobs._get_next_page_response()\n",
    "\n",
    "# See which files your search produced.\n",
    "fnames = []\n",
    "urls = []\n",
    "\n",
    "for f in range(0, len(response[\"items\"])):\n",
    "    url_link = ((response[\"items\"])[f])[\"mediaLink\"]\n",
    "    urls.append(url_link)\n",
    "    fname = ((response[\"items\"])[f])[\"name\"]\n",
    "    fnames.append(fname)\n",
    "    \n",
    "    print(fname)\n",
    "    \n",
    "# Crack open the data. You can now use this netCDF file as you would any downloaded netCDF file.\n",
    "for i in range(0,len(fnames)):\n",
    "    resp = requests.get(urls[i])\n",
    "    nc = netCDF4.Dataset(fnames[i], memory = resp.content)"
   ]
  },
  {
   "cell_type": "code",
   "execution_count": null,
   "id": "26c7c723-cc93-4a8e-8655-f6f54f94eede",
   "metadata": {},
   "outputs": [],
   "source": [
    "# Explore Google's available products:\n",
    "from google.cloud import storage\n",
    "\n",
    "products = []\n",
    "\n",
    "client = storage.Client.create_anonymous_client()\n",
    "bucket = client.bucket(bucket_name = satellite)\n",
    "blobs = bucket.list_blobs(delimiter = \"/\")\n",
    "response = blobs._get_next_page_response()\n",
    "for product in response['prefixes']:\n",
    "    print(product)"
   ]
  },
  {
   "cell_type": "code",
   "execution_count": null,
   "id": "4696fafb-9bb4-41a5-97bb-83527337891f",
   "metadata": {},
   "outputs": [],
   "source": []
  }
 ],
 "metadata": {
  "kernelspec": {
   "display_name": "Python 3 (ipykernel)",
   "language": "python",
   "name": "python3"
  },
  "language_info": {
   "codemirror_mode": {
    "name": "ipython",
    "version": 3
   },
   "file_extension": ".py",
   "mimetype": "text/x-python",
   "name": "python",
   "nbconvert_exporter": "python",
   "pygments_lexer": "ipython3",
   "version": "3.11.4"
  }
 },
 "nbformat": 4,
 "nbformat_minor": 5
}
